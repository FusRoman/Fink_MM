{
 "cells": [
  {
   "cell_type": "code",
   "execution_count": 128,
   "metadata": {},
   "outputs": [],
   "source": [
    "from astropy.time import Time\n",
    "import numpy as np\n",
    "import pandas as pd\n",
    "import astropy.units as u"
   ]
  },
  {
   "cell_type": "markdown",
   "metadata": {},
   "source": [
    "## Load data"
   ]
  },
  {
   "cell_type": "code",
   "execution_count": 106,
   "metadata": {},
   "outputs": [],
   "source": [
    "fink_grb_data_path = \"/user/julien.peloton/fink_grb/\""
   ]
  },
  {
   "cell_type": "code",
   "execution_count": 107,
   "metadata": {},
   "outputs": [],
   "source": [
    "df = spark.read\\\n",
    ".option(\"basePath\", fink_grb_data_path)\\\n",
    ".format(\"parquet\")\\\n",
    ".load([fink_grb_data_path + \"gcn_storage/raw\"]).toPandas()\n",
    "df = df.sort_values(\"triggerTimejd\")"
   ]
  },
  {
   "cell_type": "markdown",
   "metadata": {},
   "source": [
    "## Simple stats"
   ]
  },
  {
   "cell_type": "code",
   "execution_count": 139,
   "metadata": {},
   "outputs": [
    {
     "name": "stdout",
     "output_type": "stream",
     "text": [
      "first gcn date: 2023-06-15T18:08:26.002000000\n",
      "last gcn date: 2023-07-03T10:48:38.888000000\n"
     ]
    }
   ],
   "source": [
    "last_day = df[\"triggerTimeUTC\"].values[-1]\n",
    "print(\"first gcn date: {}\\nlast gcn date: {}\".format(\n",
    "    df[\"triggerTimeUTC\"].values[0], \n",
    "    last_day\n",
    "))"
   ]
  },
  {
   "cell_type": "markdown",
   "metadata": {},
   "source": [
    "#### GCN of the last day"
   ]
  },
  {
   "cell_type": "code",
   "execution_count": 142,
   "metadata": {},
   "outputs": [
    {
     "data": {
      "text/html": [
       "<div>\n",
       "<style scoped>\n",
       "    .dataframe tbody tr th:only-of-type {\n",
       "        vertical-align: middle;\n",
       "    }\n",
       "\n",
       "    .dataframe tbody tr th {\n",
       "        vertical-align: top;\n",
       "    }\n",
       "\n",
       "    .dataframe thead th {\n",
       "        text-align: right;\n",
       "    }\n",
       "</style>\n",
       "<table border=\"1\" class=\"dataframe\">\n",
       "  <thead>\n",
       "    <tr style=\"text-align: right;\">\n",
       "      <th></th>\n",
       "      <th>observatory</th>\n",
       "      <th>instrument</th>\n",
       "      <th>event</th>\n",
       "      <th>ivorn</th>\n",
       "      <th>triggerId</th>\n",
       "      <th>ra</th>\n",
       "      <th>dec</th>\n",
       "      <th>err_arcmin</th>\n",
       "      <th>ackTime</th>\n",
       "      <th>triggerTimejd</th>\n",
       "      <th>triggerTimeUTC</th>\n",
       "      <th>raw_event</th>\n",
       "      <th>year</th>\n",
       "      <th>month</th>\n",
       "      <th>day</th>\n",
       "      <th>dayjd</th>\n",
       "    </tr>\n",
       "  </thead>\n",
       "  <tbody>\n",
       "    <tr>\n",
       "      <th>74</th>\n",
       "      <td>LVK</td>\n",
       "      <td>H1_L1</td>\n",
       "      <td>gw</td>\n",
       "      <td></td>\n",
       "      <td>S230703p</td>\n",
       "      <td>83.144531</td>\n",
       "      <td>32.442866</td>\n",
       "      <td>2.121365e+07</td>\n",
       "      <td>2023-07-03 12:53:38.737908</td>\n",
       "      <td>2.460129e+06</td>\n",
       "      <td>2023-07-03 10:48:38.888</td>\n",
       "      <td>{\"alert_type\": \"PRELIMINARY\", \"time_created\": ...</td>\n",
       "      <td>2023</td>\n",
       "      <td>7</td>\n",
       "      <td>3</td>\n",
       "      <td>2460129.0</td>\n",
       "    </tr>\n",
       "  </tbody>\n",
       "</table>\n",
       "</div>"
      ],
      "text/plain": [
       "   observatory instrument event ivorn triggerId         ra        dec  \\\n",
       "74         LVK      H1_L1    gw        S230703p  83.144531  32.442866   \n",
       "\n",
       "      err_arcmin                    ackTime  triggerTimejd  \\\n",
       "74  2.121365e+07 2023-07-03 12:53:38.737908   2.460129e+06   \n",
       "\n",
       "            triggerTimeUTC                                          raw_event  \\\n",
       "74 2023-07-03 10:48:38.888  {\"alert_type\": \"PRELIMINARY\", \"time_created\": ...   \n",
       "\n",
       "    year  month  day      dayjd  \n",
       "74  2023      7    3  2460129.0  "
      ]
     },
     "execution_count": 142,
     "metadata": {},
     "output_type": "execute_result"
    }
   ],
   "source": [
    "df[df[\"triggerTimeUTC\"] == last_day]"
   ]
  },
  {
   "cell_type": "markdown",
   "metadata": {},
   "source": [
    "### Nb gcn / day"
   ]
  },
  {
   "cell_type": "code",
   "execution_count": 109,
   "metadata": {},
   "outputs": [
    {
     "data": {
      "text/plain": [
       "'9.842 ± 3.701 gcn/day'"
      ]
     },
     "execution_count": 109,
     "metadata": {},
     "output_type": "execute_result"
    }
   ],
   "source": [
    "df[\"dayjd\"] = df[\"triggerTimejd\"].round()\n",
    "res_gb = df.groupby(\"dayjd\").count()[\"observatory\"]\n",
    "\"{:.3f} ± {:.3f} gcn/day\".format(res_gb.mean(), res_gb.std())"
   ]
  },
  {
   "cell_type": "markdown",
   "metadata": {},
   "source": [
    "### Nb gcn / observatory"
   ]
  },
  {
   "cell_type": "code",
   "execution_count": 110,
   "metadata": {},
   "outputs": [
    {
     "data": {
      "text/html": [
       "<div>\n",
       "<style scoped>\n",
       "    .dataframe tbody tr th:only-of-type {\n",
       "        vertical-align: middle;\n",
       "    }\n",
       "\n",
       "    .dataframe tbody tr th {\n",
       "        vertical-align: top;\n",
       "    }\n",
       "\n",
       "    .dataframe thead th {\n",
       "        text-align: right;\n",
       "    }\n",
       "</style>\n",
       "<table border=\"1\" class=\"dataframe\">\n",
       "  <thead>\n",
       "    <tr style=\"text-align: right;\">\n",
       "      <th></th>\n",
       "      <th>instrument</th>\n",
       "      <th>event</th>\n",
       "      <th>ivorn</th>\n",
       "      <th>triggerId</th>\n",
       "      <th>ra</th>\n",
       "      <th>dec</th>\n",
       "      <th>err_arcmin</th>\n",
       "      <th>ackTime</th>\n",
       "      <th>triggerTimejd</th>\n",
       "      <th>triggerTimeUTC</th>\n",
       "      <th>raw_event</th>\n",
       "      <th>year</th>\n",
       "      <th>month</th>\n",
       "      <th>day</th>\n",
       "      <th>dayjd</th>\n",
       "    </tr>\n",
       "    <tr>\n",
       "      <th>observatory</th>\n",
       "      <th></th>\n",
       "      <th></th>\n",
       "      <th></th>\n",
       "      <th></th>\n",
       "      <th></th>\n",
       "      <th></th>\n",
       "      <th></th>\n",
       "      <th></th>\n",
       "      <th></th>\n",
       "      <th></th>\n",
       "      <th></th>\n",
       "      <th></th>\n",
       "      <th></th>\n",
       "      <th></th>\n",
       "      <th></th>\n",
       "    </tr>\n",
       "  </thead>\n",
       "  <tbody>\n",
       "    <tr>\n",
       "      <th>Fermi</th>\n",
       "      <td>35</td>\n",
       "      <td>35</td>\n",
       "      <td>35</td>\n",
       "      <td>35</td>\n",
       "      <td>35</td>\n",
       "      <td>35</td>\n",
       "      <td>35</td>\n",
       "      <td>35</td>\n",
       "      <td>35</td>\n",
       "      <td>35</td>\n",
       "      <td>35</td>\n",
       "      <td>35</td>\n",
       "      <td>35</td>\n",
       "      <td>35</td>\n",
       "      <td>35</td>\n",
       "    </tr>\n",
       "    <tr>\n",
       "      <th>ICECUBE</th>\n",
       "      <td>2</td>\n",
       "      <td>2</td>\n",
       "      <td>2</td>\n",
       "      <td>2</td>\n",
       "      <td>2</td>\n",
       "      <td>2</td>\n",
       "      <td>2</td>\n",
       "      <td>2</td>\n",
       "      <td>2</td>\n",
       "      <td>2</td>\n",
       "      <td>2</td>\n",
       "      <td>2</td>\n",
       "      <td>2</td>\n",
       "      <td>2</td>\n",
       "      <td>2</td>\n",
       "    </tr>\n",
       "    <tr>\n",
       "      <th>INTEGRAL</th>\n",
       "      <td>8</td>\n",
       "      <td>8</td>\n",
       "      <td>8</td>\n",
       "      <td>8</td>\n",
       "      <td>8</td>\n",
       "      <td>8</td>\n",
       "      <td>8</td>\n",
       "      <td>8</td>\n",
       "      <td>8</td>\n",
       "      <td>8</td>\n",
       "      <td>8</td>\n",
       "      <td>8</td>\n",
       "      <td>8</td>\n",
       "      <td>8</td>\n",
       "      <td>8</td>\n",
       "    </tr>\n",
       "    <tr>\n",
       "      <th>LVK</th>\n",
       "      <td>139</td>\n",
       "      <td>139</td>\n",
       "      <td>139</td>\n",
       "      <td>139</td>\n",
       "      <td>139</td>\n",
       "      <td>139</td>\n",
       "      <td>139</td>\n",
       "      <td>139</td>\n",
       "      <td>139</td>\n",
       "      <td>139</td>\n",
       "      <td>139</td>\n",
       "      <td>139</td>\n",
       "      <td>139</td>\n",
       "      <td>139</td>\n",
       "      <td>139</td>\n",
       "    </tr>\n",
       "    <tr>\n",
       "      <th>SWIFT</th>\n",
       "      <td>3</td>\n",
       "      <td>3</td>\n",
       "      <td>3</td>\n",
       "      <td>3</td>\n",
       "      <td>3</td>\n",
       "      <td>3</td>\n",
       "      <td>3</td>\n",
       "      <td>3</td>\n",
       "      <td>3</td>\n",
       "      <td>3</td>\n",
       "      <td>3</td>\n",
       "      <td>3</td>\n",
       "      <td>3</td>\n",
       "      <td>3</td>\n",
       "      <td>3</td>\n",
       "    </tr>\n",
       "  </tbody>\n",
       "</table>\n",
       "</div>"
      ],
      "text/plain": [
       "             instrument  event  ivorn  triggerId   ra  dec  err_arcmin  \\\n",
       "observatory                                                              \n",
       "Fermi                35     35     35         35   35   35          35   \n",
       "ICECUBE               2      2      2          2    2    2           2   \n",
       "INTEGRAL              8      8      8          8    8    8           8   \n",
       "LVK                 139    139    139        139  139  139         139   \n",
       "SWIFT                 3      3      3          3    3    3           3   \n",
       "\n",
       "             ackTime  triggerTimejd  triggerTimeUTC  raw_event  year  month  \\\n",
       "observatory                                                                   \n",
       "Fermi             35             35              35         35    35     35   \n",
       "ICECUBE            2              2               2          2     2      2   \n",
       "INTEGRAL           8              8               8          8     8      8   \n",
       "LVK              139            139             139        139   139    139   \n",
       "SWIFT              3              3               3          3     3      3   \n",
       "\n",
       "             day  dayjd  \n",
       "observatory              \n",
       "Fermi         35     35  \n",
       "ICECUBE        2      2  \n",
       "INTEGRAL       8      8  \n",
       "LVK          139    139  \n",
       "SWIFT          3      3  "
      ]
     },
     "execution_count": 110,
     "metadata": {},
     "output_type": "execute_result"
    }
   ],
   "source": [
    "df.groupby(\"observatory\").count()"
   ]
  },
  {
   "cell_type": "markdown",
   "metadata": {},
   "source": [
    "### Nb gcn / day / observatory"
   ]
  },
  {
   "cell_type": "code",
   "execution_count": 114,
   "metadata": {},
   "outputs": [],
   "source": [
    "observatories = df[\"observatory\"].unique()"
   ]
  },
  {
   "cell_type": "code",
   "execution_count": 138,
   "metadata": {},
   "outputs": [
    {
     "name": "stdout",
     "output_type": "stream",
     "text": [
      "LVK: 8.299 ± 2.935 gcn/day\n",
      "\n",
      "Fermi: 1.989 ± 1.473 gcn/day\n",
      "\n",
      "INTEGRAL: 0.540 ± 0.711 gcn/day\n",
      "\n",
      "SWIFT: 0.203 ± 0.402 gcn/day\n",
      "\n",
      "ICECUBE: 0.128 ± 0.334 gcn/day\n",
      "\n"
     ]
    }
   ],
   "source": [
    "for obs in observatories:\n",
    "    nb_day = []\n",
    "    for day in df[\"dayjd\"]:\n",
    "        nb_day.append(len(df[(df[\"dayjd\"] == day) & (df[\"observatory\"] == obs)]))\n",
    "    \n",
    "    print(\"{}: {:.3f} ± {:.3f} gcn/day\".format(obs, np.mean(nb_day), np.std(nb_day)))\n",
    "    print()"
   ]
  },
  {
   "cell_type": "markdown",
   "metadata": {},
   "source": [
    "### Nb gcn / instruments"
   ]
  },
  {
   "cell_type": "code",
   "execution_count": 28,
   "metadata": {},
   "outputs": [
    {
     "name": "stdout",
     "output_type": "stream",
     "text": [
      "--- LVK ---\n",
      "| instrument          |   triggerId |\n",
      "|:--------------------|------------:|\n",
      "| H1                  |           1 |\n",
      "| H1_L1               |         137 |\n",
      "| MbtaL-Hon-clustered |           1 |\n",
      "\n",
      "\n",
      "--- Fermi ---\n",
      "| instrument   |   triggerId |\n",
      "|:-------------|------------:|\n",
      "| GBM          |          35 |\n",
      "\n",
      "\n",
      "--- SWIFT ---\n",
      "| instrument   |   triggerId |\n",
      "|:-------------|------------:|\n",
      "| BAT          |           1 |\n",
      "| XRT          |           2 |\n",
      "\n",
      "\n",
      "--- ICECUBE ---\n",
      "| event   |   triggerId |\n",
      "|:--------|------------:|\n",
      "| Cascade |           2 |\n",
      "\n",
      "\n",
      "--- INTEGRAL ---\n",
      "| instrument   |   triggerId |\n",
      "|:-------------|------------:|\n",
      "| Weak         |           8 |\n",
      "\n",
      "\n"
     ]
    }
   ],
   "source": [
    "for obs in observatories:\n",
    "    df_tmp = df[df[\"observatory\"] == obs]\n",
    "    print(\"--- {} ---\".format(obs))\n",
    "    gb_col = \"instrument\"\n",
    "    if obs == \"ICECUBE\":\n",
    "        gb_col = \"event\"\n",
    "    print(df_tmp.groupby(gb_col).count()[\"triggerId\"].to_markdown())\n",
    "    print(\"\\n\")"
   ]
  },
  {
   "cell_type": "markdown",
   "metadata": {},
   "source": [
    "### GCN latency"
   ]
  },
  {
   "cell_type": "markdown",
   "metadata": {},
   "source": [
    "Warning: this is the latency between the trigger time and the last gcn emitted for each events. This is not the latency computed with the first gcn emitted just after the emission."
   ]
  },
  {
   "cell_type": "code",
   "execution_count": 64,
   "metadata": {},
   "outputs": [],
   "source": [
    "df[\"jdAckTime\"] = Time(df[\"ackTime\"].values).jd\n",
    "df[\"latency\"] = (df[\"jdAckTime\"] - df[\"triggerTimejd\"]) * 24"
   ]
  },
  {
   "cell_type": "markdown",
   "metadata": {},
   "source": [
    "#### GCN latency global"
   ]
  },
  {
   "cell_type": "code",
   "execution_count": 65,
   "metadata": {},
   "outputs": [
    {
     "data": {
      "text/plain": [
       "'8.070 ± 11.644 hours'"
      ]
     },
     "execution_count": 65,
     "metadata": {},
     "output_type": "execute_result"
    }
   ],
   "source": [
    "\"{:.3f} ± {:.3f} hours\".format(df[\"latency\"].mean(), df[\"latency\"].std())"
   ]
  },
  {
   "cell_type": "code",
   "execution_count": 66,
   "metadata": {
    "scrolled": true
   },
   "outputs": [
    {
     "data": {
      "text/html": [
       "<div>\n",
       "<style scoped>\n",
       "    .dataframe tbody tr th:only-of-type {\n",
       "        vertical-align: middle;\n",
       "    }\n",
       "\n",
       "    .dataframe tbody tr th {\n",
       "        vertical-align: top;\n",
       "    }\n",
       "\n",
       "    .dataframe thead th {\n",
       "        text-align: right;\n",
       "    }\n",
       "</style>\n",
       "<table border=\"1\" class=\"dataframe\">\n",
       "  <thead>\n",
       "    <tr style=\"text-align: right;\">\n",
       "      <th></th>\n",
       "      <th>latency_mean</th>\n",
       "      <th>latency_std</th>\n",
       "      <th>latency_min</th>\n",
       "      <th>latency_max</th>\n",
       "    </tr>\n",
       "    <tr>\n",
       "      <th>observatory</th>\n",
       "      <th></th>\n",
       "      <th></th>\n",
       "      <th></th>\n",
       "      <th></th>\n",
       "    </tr>\n",
       "  </thead>\n",
       "  <tbody>\n",
       "    <tr>\n",
       "      <th>Fermi</th>\n",
       "      <td>11.609709</td>\n",
       "      <td>14.723566</td>\n",
       "      <td>4.000984</td>\n",
       "      <td>58.956907</td>\n",
       "    </tr>\n",
       "    <tr>\n",
       "      <th>ICECUBE</th>\n",
       "      <td>4.098797</td>\n",
       "      <td>0.000997</td>\n",
       "      <td>4.098092</td>\n",
       "      <td>4.099502</td>\n",
       "    </tr>\n",
       "    <tr>\n",
       "      <th>INTEGRAL</th>\n",
       "      <td>7.051974</td>\n",
       "      <td>8.621931</td>\n",
       "      <td>4.001710</td>\n",
       "      <td>28.390164</td>\n",
       "    </tr>\n",
       "    <tr>\n",
       "      <th>LVK</th>\n",
       "      <td>7.377050</td>\n",
       "      <td>11.013111</td>\n",
       "      <td>4.082593</td>\n",
       "      <td>57.171783</td>\n",
       "    </tr>\n",
       "    <tr>\n",
       "      <th>SWIFT</th>\n",
       "      <td>4.227208</td>\n",
       "      <td>0.192336</td>\n",
       "      <td>4.007949</td>\n",
       "      <td>4.367451</td>\n",
       "    </tr>\n",
       "  </tbody>\n",
       "</table>\n",
       "</div>"
      ],
      "text/plain": [
       "             latency_mean  latency_std  latency_min  latency_max\n",
       "observatory                                                     \n",
       "Fermi           11.609709    14.723566     4.000984    58.956907\n",
       "ICECUBE          4.098797     0.000997     4.098092     4.099502\n",
       "INTEGRAL         7.051974     8.621931     4.001710    28.390164\n",
       "LVK              7.377050    11.013111     4.082593    57.171783\n",
       "SWIFT            4.227208     0.192336     4.007949     4.367451"
      ]
     },
     "execution_count": 66,
     "metadata": {},
     "output_type": "execute_result"
    }
   ],
   "source": [
    "df.groupby(\"observatory\").agg(\n",
    "    latency_mean=(\"latency\", np.mean),\n",
    "    latency_std=(\"latency\", np.std),\n",
    "    latency_min=(\"latency\", np.min),\n",
    "    latency_max=(\"latency\", np.max)\n",
    ")"
   ]
  },
  {
   "cell_type": "markdown",
   "metadata": {},
   "source": [
    "### Error area"
   ]
  },
  {
   "cell_type": "markdown",
   "metadata": {},
   "source": [
    "#### error area global"
   ]
  },
  {
   "cell_type": "code",
   "execution_count": 78,
   "metadata": {},
   "outputs": [
    {
     "data": {
      "text/plain": [
       "'3146.598 ± 3559.051 deg²'"
      ]
     },
     "execution_count": 78,
     "metadata": {},
     "output_type": "execute_result"
    }
   ],
   "source": [
    "err_squaredeg = (df[\"err_arcmin\"].values * u.arcmin**2).to_value(u.deg**2)\n",
    "\"{:.3f} ± {:.3f} deg²\".format(err_squaredeg.mean(), err_squaredeg.std())"
   ]
  },
  {
   "cell_type": "markdown",
   "metadata": {},
   "source": [
    "#### error area / observatory"
   ]
  },
  {
   "cell_type": "code",
   "execution_count": 82,
   "metadata": {},
   "outputs": [
    {
     "data": {
      "text/html": [
       "<div>\n",
       "<style scoped>\n",
       "    .dataframe tbody tr th:only-of-type {\n",
       "        vertical-align: middle;\n",
       "    }\n",
       "\n",
       "    .dataframe tbody tr th {\n",
       "        vertical-align: top;\n",
       "    }\n",
       "\n",
       "    .dataframe thead th {\n",
       "        text-align: right;\n",
       "    }\n",
       "</style>\n",
       "<table border=\"1\" class=\"dataframe\">\n",
       "  <thead>\n",
       "    <tr style=\"text-align: right;\">\n",
       "      <th></th>\n",
       "      <th>err_area_mean</th>\n",
       "      <th>err_area_std</th>\n",
       "      <th>err_area_min</th>\n",
       "      <th>err_area_max</th>\n",
       "    </tr>\n",
       "    <tr>\n",
       "      <th>observatory</th>\n",
       "      <th></th>\n",
       "      <th></th>\n",
       "      <th></th>\n",
       "      <th></th>\n",
       "    </tr>\n",
       "  </thead>\n",
       "  <tbody>\n",
       "    <tr>\n",
       "      <th>Fermi</th>\n",
       "      <td>0.311000</td>\n",
       "      <td>2.494939e-01</td>\n",
       "      <td>1.666667e-02</td>\n",
       "      <td>0.833333</td>\n",
       "    </tr>\n",
       "    <tr>\n",
       "      <th>ICECUBE</th>\n",
       "      <td>0.083570</td>\n",
       "      <td>1.347981e-02</td>\n",
       "      <td>7.403833e-02</td>\n",
       "      <td>0.093102</td>\n",
       "    </tr>\n",
       "    <tr>\n",
       "      <th>INTEGRAL</th>\n",
       "      <td>0.000017</td>\n",
       "      <td>2.402187e-07</td>\n",
       "      <td>1.619444e-05</td>\n",
       "      <td>0.000017</td>\n",
       "    </tr>\n",
       "    <tr>\n",
       "      <th>LVK</th>\n",
       "      <td>4233.113734</td>\n",
       "      <td>3.540067e+03</td>\n",
       "      <td>8.146394e+01</td>\n",
       "      <td>24215.300252</td>\n",
       "    </tr>\n",
       "    <tr>\n",
       "      <th>SWIFT</th>\n",
       "      <td>0.000002</td>\n",
       "      <td>2.509180e-06</td>\n",
       "      <td>1.388889e-07</td>\n",
       "      <td>0.000005</td>\n",
       "    </tr>\n",
       "  </tbody>\n",
       "</table>\n",
       "</div>"
      ],
      "text/plain": [
       "             err_area_mean  err_area_std  err_area_min  err_area_max\n",
       "observatory                                                         \n",
       "Fermi             0.311000  2.494939e-01  1.666667e-02      0.833333\n",
       "ICECUBE           0.083570  1.347981e-02  7.403833e-02      0.093102\n",
       "INTEGRAL          0.000017  2.402187e-07  1.619444e-05      0.000017\n",
       "LVK            4233.113734  3.540067e+03  8.146394e+01  24215.300252\n",
       "SWIFT             0.000002  2.509180e-06  1.388889e-07      0.000005"
      ]
     },
     "execution_count": 82,
     "metadata": {},
     "output_type": "execute_result"
    }
   ],
   "source": [
    "df[\"err_squaredeg\"] = err_squaredeg\n",
    "df.groupby(\"observatory\").agg(\n",
    "    err_area_mean=(\"err_squaredeg\", np.mean),\n",
    "    err_area_std=(\"err_squaredeg\", np.std),\n",
    "    err_area_min=(\"err_squaredeg\", np.min),\n",
    "    err_area_max=(\"err_squaredeg\", np.max)\n",
    ")"
   ]
  }
 ],
 "metadata": {
  "kernelspec": {
   "display_name": "Python 3",
   "language": "python",
   "name": "python3"
  },
  "language_info": {
   "codemirror_mode": {
    "name": "ipython",
    "version": 3
   },
   "file_extension": ".py",
   "mimetype": "text/x-python",
   "name": "python",
   "nbconvert_exporter": "python",
   "pygments_lexer": "ipython3",
   "version": "3.7.6"
  }
 },
 "nbformat": 4,
 "nbformat_minor": 4
}
