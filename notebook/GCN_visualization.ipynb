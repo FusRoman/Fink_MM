{
 "cells": [
  {
   "cell_type": "code",
   "execution_count": 1,
   "metadata": {},
   "outputs": [],
   "source": [
    "from astropy.time import Time\n",
    "import numpy as np\n",
    "import pandas as pd\n",
    "import astropy.units as u"
   ]
  },
  {
   "cell_type": "markdown",
   "metadata": {},
   "source": [
    "## Load data"
   ]
  },
  {
   "cell_type": "code",
   "execution_count": 2,
   "metadata": {},
   "outputs": [],
   "source": [
    "fink_grb_data_path = \"/user/julien.peloton/fink_grb/\""
   ]
  },
  {
   "cell_type": "code",
   "execution_count": 3,
   "metadata": {},
   "outputs": [],
   "source": [
    "df = spark.read\\\n",
    ".option(\"basePath\", fink_grb_data_path)\\\n",
    ".format(\"parquet\")\\\n",
    ".load([fink_grb_data_path + \"gcn_storage/raw\"]).toPandas()\n",
    "df = df.sort_values(\"triggerTimejd\")"
   ]
  },
  {
   "cell_type": "markdown",
   "metadata": {},
   "source": [
    "## Simple stats"
   ]
  },
  {
   "cell_type": "code",
   "execution_count": 4,
   "metadata": {},
   "outputs": [
    {
     "name": "stdout",
     "output_type": "stream",
     "text": [
      "first gcn date: 2023-05-29T20:15:00.746000000\n",
      "last gcn date: 2023-07-10T01:51:12.470000000\n"
     ]
    }
   ],
   "source": [
    "last_day = df[\"triggerTimeUTC\"].values[-1]\n",
    "print(\"first gcn date: {}\\nlast gcn date: {}\".format(\n",
    "    df[\"triggerTimeUTC\"].values[0], \n",
    "    last_day\n",
    "))"
   ]
  },
  {
   "cell_type": "markdown",
   "metadata": {},
   "source": [
    "#### GCN of the last day"
   ]
  },
  {
   "cell_type": "code",
   "execution_count": 5,
   "metadata": {},
   "outputs": [
    {
     "data": {
      "text/html": [
       "<div>\n",
       "<style scoped>\n",
       "    .dataframe tbody tr th:only-of-type {\n",
       "        vertical-align: middle;\n",
       "    }\n",
       "\n",
       "    .dataframe tbody tr th {\n",
       "        vertical-align: top;\n",
       "    }\n",
       "\n",
       "    .dataframe thead th {\n",
       "        text-align: right;\n",
       "    }\n",
       "</style>\n",
       "<table border=\"1\" class=\"dataframe\">\n",
       "  <thead>\n",
       "    <tr style=\"text-align: right;\">\n",
       "      <th></th>\n",
       "      <th>observatory</th>\n",
       "      <th>instrument</th>\n",
       "      <th>event</th>\n",
       "      <th>ivorn</th>\n",
       "      <th>triggerId</th>\n",
       "      <th>ra</th>\n",
       "      <th>dec</th>\n",
       "      <th>err_arcmin</th>\n",
       "      <th>ackTime</th>\n",
       "      <th>triggerTimejd</th>\n",
       "      <th>triggerTimeUTC</th>\n",
       "      <th>raw_event</th>\n",
       "      <th>year</th>\n",
       "      <th>month</th>\n",
       "      <th>day</th>\n",
       "    </tr>\n",
       "  </thead>\n",
       "  <tbody>\n",
       "    <tr>\n",
       "      <th>241</th>\n",
       "      <td>Fermi</td>\n",
       "      <td>GBM</td>\n",
       "      <td></td>\n",
       "      <td>ivo://nasa.gsfc.gcn/Fermi#GBM_Flt_Pos_2023-07-...</td>\n",
       "      <td>710639477</td>\n",
       "      <td>56.6667</td>\n",
       "      <td>-45.2667</td>\n",
       "      <td>1594.002</td>\n",
       "      <td>2023-07-10 03:51:57.617901</td>\n",
       "      <td>2.460135e+06</td>\n",
       "      <td>2023-07-10 01:51:12.470</td>\n",
       "      <td>&lt;VOEvent xmlns:xsi=\"http://www.w3.org/2001/XML...</td>\n",
       "      <td>2023</td>\n",
       "      <td>7</td>\n",
       "      <td>9</td>\n",
       "    </tr>\n",
       "  </tbody>\n",
       "</table>\n",
       "</div>"
      ],
      "text/plain": [
       "    observatory instrument event  \\\n",
       "241       Fermi        GBM         \n",
       "\n",
       "                                                 ivorn  triggerId       ra  \\\n",
       "241  ivo://nasa.gsfc.gcn/Fermi#GBM_Flt_Pos_2023-07-...  710639477  56.6667   \n",
       "\n",
       "         dec  err_arcmin                    ackTime  triggerTimejd  \\\n",
       "241 -45.2667    1594.002 2023-07-10 03:51:57.617901   2.460135e+06   \n",
       "\n",
       "             triggerTimeUTC  \\\n",
       "241 2023-07-10 01:51:12.470   \n",
       "\n",
       "                                             raw_event  year  month  day  \n",
       "241  <VOEvent xmlns:xsi=\"http://www.w3.org/2001/XML...  2023      7    9  "
      ]
     },
     "execution_count": 5,
     "metadata": {},
     "output_type": "execute_result"
    }
   ],
   "source": [
    "df[df[\"triggerTimeUTC\"] == last_day]"
   ]
  },
  {
   "cell_type": "markdown",
   "metadata": {},
   "source": [
    "### Nb gcn / day"
   ]
  },
  {
   "cell_type": "code",
   "execution_count": 6,
   "metadata": {},
   "outputs": [
    {
     "data": {
      "text/plain": [
       "'11.423 ± 4.700 gcn/day'"
      ]
     },
     "execution_count": 6,
     "metadata": {},
     "output_type": "execute_result"
    }
   ],
   "source": [
    "df[\"dayjd\"] = df[\"triggerTimejd\"].round()\n",
    "res_gb = df.groupby(\"dayjd\").count()[\"observatory\"]\n",
    "\"{:.3f} ± {:.3f} gcn/day\".format(res_gb.mean(), res_gb.std())"
   ]
  },
  {
   "cell_type": "markdown",
   "metadata": {},
   "source": [
    "### Nb gcn / observatory"
   ]
  },
  {
   "cell_type": "code",
   "execution_count": 7,
   "metadata": {},
   "outputs": [
    {
     "data": {
      "text/html": [
       "<div>\n",
       "<style scoped>\n",
       "    .dataframe tbody tr th:only-of-type {\n",
       "        vertical-align: middle;\n",
       "    }\n",
       "\n",
       "    .dataframe tbody tr th {\n",
       "        vertical-align: top;\n",
       "    }\n",
       "\n",
       "    .dataframe thead th {\n",
       "        text-align: right;\n",
       "    }\n",
       "</style>\n",
       "<table border=\"1\" class=\"dataframe\">\n",
       "  <thead>\n",
       "    <tr style=\"text-align: right;\">\n",
       "      <th></th>\n",
       "      <th>instrument</th>\n",
       "      <th>event</th>\n",
       "      <th>ivorn</th>\n",
       "      <th>triggerId</th>\n",
       "      <th>ra</th>\n",
       "      <th>dec</th>\n",
       "      <th>err_arcmin</th>\n",
       "      <th>ackTime</th>\n",
       "      <th>triggerTimejd</th>\n",
       "      <th>triggerTimeUTC</th>\n",
       "      <th>raw_event</th>\n",
       "      <th>year</th>\n",
       "      <th>month</th>\n",
       "      <th>day</th>\n",
       "      <th>dayjd</th>\n",
       "    </tr>\n",
       "    <tr>\n",
       "      <th>observatory</th>\n",
       "      <th></th>\n",
       "      <th></th>\n",
       "      <th></th>\n",
       "      <th></th>\n",
       "      <th></th>\n",
       "      <th></th>\n",
       "      <th></th>\n",
       "      <th></th>\n",
       "      <th></th>\n",
       "      <th></th>\n",
       "      <th></th>\n",
       "      <th></th>\n",
       "      <th></th>\n",
       "      <th></th>\n",
       "      <th></th>\n",
       "    </tr>\n",
       "  </thead>\n",
       "  <tbody>\n",
       "    <tr>\n",
       "      <th>Fermi</th>\n",
       "      <td>52</td>\n",
       "      <td>52</td>\n",
       "      <td>52</td>\n",
       "      <td>52</td>\n",
       "      <td>52</td>\n",
       "      <td>52</td>\n",
       "      <td>52</td>\n",
       "      <td>52</td>\n",
       "      <td>52</td>\n",
       "      <td>52</td>\n",
       "      <td>52</td>\n",
       "      <td>52</td>\n",
       "      <td>52</td>\n",
       "      <td>52</td>\n",
       "      <td>52</td>\n",
       "    </tr>\n",
       "    <tr>\n",
       "      <th>ICECUBE</th>\n",
       "      <td>5</td>\n",
       "      <td>5</td>\n",
       "      <td>5</td>\n",
       "      <td>5</td>\n",
       "      <td>5</td>\n",
       "      <td>5</td>\n",
       "      <td>5</td>\n",
       "      <td>5</td>\n",
       "      <td>5</td>\n",
       "      <td>5</td>\n",
       "      <td>5</td>\n",
       "      <td>5</td>\n",
       "      <td>5</td>\n",
       "      <td>5</td>\n",
       "      <td>5</td>\n",
       "    </tr>\n",
       "    <tr>\n",
       "      <th>INTEGRAL</th>\n",
       "      <td>21</td>\n",
       "      <td>21</td>\n",
       "      <td>21</td>\n",
       "      <td>21</td>\n",
       "      <td>21</td>\n",
       "      <td>21</td>\n",
       "      <td>21</td>\n",
       "      <td>21</td>\n",
       "      <td>21</td>\n",
       "      <td>21</td>\n",
       "      <td>21</td>\n",
       "      <td>21</td>\n",
       "      <td>21</td>\n",
       "      <td>21</td>\n",
       "      <td>21</td>\n",
       "    </tr>\n",
       "    <tr>\n",
       "      <th>LVK</th>\n",
       "      <td>216</td>\n",
       "      <td>216</td>\n",
       "      <td>216</td>\n",
       "      <td>216</td>\n",
       "      <td>216</td>\n",
       "      <td>216</td>\n",
       "      <td>216</td>\n",
       "      <td>216</td>\n",
       "      <td>216</td>\n",
       "      <td>216</td>\n",
       "      <td>216</td>\n",
       "      <td>216</td>\n",
       "      <td>216</td>\n",
       "      <td>216</td>\n",
       "      <td>216</td>\n",
       "    </tr>\n",
       "    <tr>\n",
       "      <th>SWIFT</th>\n",
       "      <td>3</td>\n",
       "      <td>3</td>\n",
       "      <td>3</td>\n",
       "      <td>3</td>\n",
       "      <td>3</td>\n",
       "      <td>3</td>\n",
       "      <td>3</td>\n",
       "      <td>3</td>\n",
       "      <td>3</td>\n",
       "      <td>3</td>\n",
       "      <td>3</td>\n",
       "      <td>3</td>\n",
       "      <td>3</td>\n",
       "      <td>3</td>\n",
       "      <td>3</td>\n",
       "    </tr>\n",
       "  </tbody>\n",
       "</table>\n",
       "</div>"
      ],
      "text/plain": [
       "             instrument  event  ivorn  triggerId   ra  dec  err_arcmin  \\\n",
       "observatory                                                              \n",
       "Fermi                52     52     52         52   52   52          52   \n",
       "ICECUBE               5      5      5          5    5    5           5   \n",
       "INTEGRAL             21     21     21         21   21   21          21   \n",
       "LVK                 216    216    216        216  216  216         216   \n",
       "SWIFT                 3      3      3          3    3    3           3   \n",
       "\n",
       "             ackTime  triggerTimejd  triggerTimeUTC  raw_event  year  month  \\\n",
       "observatory                                                                   \n",
       "Fermi             52             52              52         52    52     52   \n",
       "ICECUBE            5              5               5          5     5      5   \n",
       "INTEGRAL          21             21              21         21    21     21   \n",
       "LVK              216            216             216        216   216    216   \n",
       "SWIFT              3              3               3          3     3      3   \n",
       "\n",
       "             day  dayjd  \n",
       "observatory              \n",
       "Fermi         52     52  \n",
       "ICECUBE        5      5  \n",
       "INTEGRAL      21     21  \n",
       "LVK          216    216  \n",
       "SWIFT          3      3  "
      ]
     },
     "execution_count": 7,
     "metadata": {},
     "output_type": "execute_result"
    }
   ],
   "source": [
    "df.groupby(\"observatory\").count()"
   ]
  },
  {
   "cell_type": "markdown",
   "metadata": {},
   "source": [
    "### Nb gcn / day / observatory"
   ]
  },
  {
   "cell_type": "code",
   "execution_count": 9,
   "metadata": {},
   "outputs": [],
   "source": [
    "observatories = df[\"observatory\"].unique()"
   ]
  },
  {
   "cell_type": "code",
   "execution_count": 10,
   "metadata": {},
   "outputs": [
    {
     "name": "stdout",
     "output_type": "stream",
     "text": [
      "LVK: 9.609 ± 3.466 gcn/day\n",
      "\n",
      "Fermi: 2.219 ± 1.592 gcn/day\n",
      "\n",
      "INTEGRAL: 1.051 ± 1.610 gcn/day\n",
      "\n",
      "SWIFT: 0.128 ± 0.334 gcn/day\n",
      "\n",
      "ICECUBE: 0.276 ± 0.573 gcn/day\n",
      "\n"
     ]
    }
   ],
   "source": [
    "for obs in observatories:\n",
    "    nb_day = []\n",
    "    for day in df[\"dayjd\"]:\n",
    "        nb_day.append(len(df[(df[\"dayjd\"] == day) & (df[\"observatory\"] == obs)]))\n",
    "    \n",
    "    print(\"{}: {:.3f} ± {:.3f} gcn/day\".format(obs, np.mean(nb_day), np.std(nb_day)))\n",
    "    print()"
   ]
  },
  {
   "cell_type": "markdown",
   "metadata": {},
   "source": [
    "### Nb gcn / instruments"
   ]
  },
  {
   "cell_type": "code",
   "execution_count": 11,
   "metadata": {},
   "outputs": [
    {
     "name": "stdout",
     "output_type": "stream",
     "text": [
      "--- LVK ---\n",
      "| instrument          |   triggerId |\n",
      "|:--------------------|------------:|\n",
      "| H1                  |           1 |\n",
      "| H1_L1               |         213 |\n",
      "| L1                  |           1 |\n",
      "| MbtaL-Hon-clustered |           1 |\n",
      "\n",
      "\n",
      "--- Fermi ---\n",
      "| instrument   |   triggerId |\n",
      "|:-------------|------------:|\n",
      "| GBM          |          52 |\n",
      "\n",
      "\n",
      "--- INTEGRAL ---\n",
      "| instrument   |   triggerId |\n",
      "|:-------------|------------:|\n",
      "| Refined      |           1 |\n",
      "| Wakeup       |           1 |\n",
      "| Weak         |          19 |\n",
      "\n",
      "\n",
      "--- SWIFT ---\n",
      "| instrument   |   triggerId |\n",
      "|:-------------|------------:|\n",
      "| BAT          |           1 |\n",
      "| XRT          |           2 |\n",
      "\n",
      "\n",
      "--- ICECUBE ---\n",
      "| event   |   triggerId |\n",
      "|:--------|------------:|\n",
      "| BRONZE  |           1 |\n",
      "| Cascade |           2 |\n",
      "| GOLD    |           2 |\n",
      "\n",
      "\n"
     ]
    }
   ],
   "source": [
    "for obs in observatories:\n",
    "    df_tmp = df[df[\"observatory\"] == obs]\n",
    "    print(\"--- {} ---\".format(obs))\n",
    "    gb_col = \"instrument\"\n",
    "    if obs == \"ICECUBE\":\n",
    "        gb_col = \"event\"\n",
    "    print(df_tmp.groupby(gb_col).count()[\"triggerId\"].to_markdown())\n",
    "    print(\"\\n\")"
   ]
  },
  {
   "cell_type": "markdown",
   "metadata": {},
   "source": [
    "### GCN latency"
   ]
  },
  {
   "cell_type": "markdown",
   "metadata": {},
   "source": [
    "Warning: this is the latency between the trigger time and the last gcn emitted for each events. This is not the latency computed with the first gcn emitted just after the emission."
   ]
  },
  {
   "cell_type": "code",
   "execution_count": 12,
   "metadata": {},
   "outputs": [],
   "source": [
    "df[\"jdAckTime\"] = Time(df[\"ackTime\"].values).jd\n",
    "df[\"latency\"] = (df[\"jdAckTime\"] - df[\"triggerTimejd\"]) * 24"
   ]
  },
  {
   "cell_type": "markdown",
   "metadata": {},
   "source": [
    "#### GCN latency global"
   ]
  },
  {
   "cell_type": "code",
   "execution_count": 13,
   "metadata": {},
   "outputs": [
    {
     "data": {
      "text/plain": [
       "'11.814 ± 55.796 hours'"
      ]
     },
     "execution_count": 13,
     "metadata": {},
     "output_type": "execute_result"
    }
   ],
   "source": [
    "\"{:.3f} ± {:.3f} hours\".format(df[\"latency\"].mean(), df[\"latency\"].std())"
   ]
  },
  {
   "cell_type": "code",
   "execution_count": 14,
   "metadata": {
    "scrolled": true
   },
   "outputs": [
    {
     "data": {
      "text/html": [
       "<div>\n",
       "<style scoped>\n",
       "    .dataframe tbody tr th:only-of-type {\n",
       "        vertical-align: middle;\n",
       "    }\n",
       "\n",
       "    .dataframe tbody tr th {\n",
       "        vertical-align: top;\n",
       "    }\n",
       "\n",
       "    .dataframe thead th {\n",
       "        text-align: right;\n",
       "    }\n",
       "</style>\n",
       "<table border=\"1\" class=\"dataframe\">\n",
       "  <thead>\n",
       "    <tr style=\"text-align: right;\">\n",
       "      <th></th>\n",
       "      <th>latency_mean</th>\n",
       "      <th>latency_std</th>\n",
       "      <th>latency_min</th>\n",
       "      <th>latency_max</th>\n",
       "    </tr>\n",
       "    <tr>\n",
       "      <th>observatory</th>\n",
       "      <th></th>\n",
       "      <th></th>\n",
       "      <th></th>\n",
       "      <th></th>\n",
       "    </tr>\n",
       "  </thead>\n",
       "  <tbody>\n",
       "    <tr>\n",
       "      <th>Fermi</th>\n",
       "      <td>9.382374</td>\n",
       "      <td>12.549360</td>\n",
       "      <td>4.000984</td>\n",
       "      <td>58.956907</td>\n",
       "    </tr>\n",
       "    <tr>\n",
       "      <th>ICECUBE</th>\n",
       "      <td>5.360771</td>\n",
       "      <td>1.920363</td>\n",
       "      <td>4.098092</td>\n",
       "      <td>8.683546</td>\n",
       "    </tr>\n",
       "    <tr>\n",
       "      <th>INTEGRAL</th>\n",
       "      <td>5.164508</td>\n",
       "      <td>5.321667</td>\n",
       "      <td>4.001161</td>\n",
       "      <td>28.390164</td>\n",
       "    </tr>\n",
       "    <tr>\n",
       "      <th>LVK</th>\n",
       "      <td>13.300040</td>\n",
       "      <td>65.086680</td>\n",
       "      <td>4.082593</td>\n",
       "      <td>911.909466</td>\n",
       "    </tr>\n",
       "    <tr>\n",
       "      <th>SWIFT</th>\n",
       "      <td>4.227208</td>\n",
       "      <td>0.192336</td>\n",
       "      <td>4.007949</td>\n",
       "      <td>4.367451</td>\n",
       "    </tr>\n",
       "  </tbody>\n",
       "</table>\n",
       "</div>"
      ],
      "text/plain": [
       "             latency_mean  latency_std  latency_min  latency_max\n",
       "observatory                                                     \n",
       "Fermi            9.382374    12.549360     4.000984    58.956907\n",
       "ICECUBE          5.360771     1.920363     4.098092     8.683546\n",
       "INTEGRAL         5.164508     5.321667     4.001161    28.390164\n",
       "LVK             13.300040    65.086680     4.082593   911.909466\n",
       "SWIFT            4.227208     0.192336     4.007949     4.367451"
      ]
     },
     "execution_count": 14,
     "metadata": {},
     "output_type": "execute_result"
    }
   ],
   "source": [
    "df.groupby(\"observatory\").agg(\n",
    "    latency_mean=(\"latency\", np.mean),\n",
    "    latency_std=(\"latency\", np.std),\n",
    "    latency_min=(\"latency\", np.min),\n",
    "    latency_max=(\"latency\", np.max)\n",
    ")"
   ]
  },
  {
   "cell_type": "markdown",
   "metadata": {},
   "source": [
    "### Error area"
   ]
  },
  {
   "cell_type": "markdown",
   "metadata": {},
   "source": [
    "#### error area global"
   ]
  },
  {
   "cell_type": "code",
   "execution_count": 15,
   "metadata": {},
   "outputs": [
    {
     "data": {
      "text/plain": [
       "'3378.019 ± 4132.316 deg²'"
      ]
     },
     "execution_count": 15,
     "metadata": {},
     "output_type": "execute_result"
    }
   ],
   "source": [
    "err_squaredeg = (df[\"err_arcmin\"].values * u.arcmin**2).to_value(u.deg**2)\n",
    "\"{:.3f} ± {:.3f} deg²\".format(err_squaredeg.mean(), err_squaredeg.std())"
   ]
  },
  {
   "cell_type": "markdown",
   "metadata": {},
   "source": [
    "#### error area / observatory"
   ]
  },
  {
   "cell_type": "code",
   "execution_count": 16,
   "metadata": {},
   "outputs": [
    {
     "data": {
      "text/html": [
       "<div>\n",
       "<style scoped>\n",
       "    .dataframe tbody tr th:only-of-type {\n",
       "        vertical-align: middle;\n",
       "    }\n",
       "\n",
       "    .dataframe tbody tr th {\n",
       "        vertical-align: top;\n",
       "    }\n",
       "\n",
       "    .dataframe thead th {\n",
       "        text-align: right;\n",
       "    }\n",
       "</style>\n",
       "<table border=\"1\" class=\"dataframe\">\n",
       "  <thead>\n",
       "    <tr style=\"text-align: right;\">\n",
       "      <th></th>\n",
       "      <th>err_area_mean</th>\n",
       "      <th>err_area_std</th>\n",
       "      <th>err_area_min</th>\n",
       "      <th>err_area_max</th>\n",
       "    </tr>\n",
       "    <tr>\n",
       "      <th>observatory</th>\n",
       "      <th></th>\n",
       "      <th></th>\n",
       "      <th></th>\n",
       "      <th></th>\n",
       "    </tr>\n",
       "  </thead>\n",
       "  <tbody>\n",
       "    <tr>\n",
       "      <th>Fermi</th>\n",
       "      <td>0.282598</td>\n",
       "      <td>2.415510e-01</td>\n",
       "      <td>1.666667e-02</td>\n",
       "      <td>0.833333</td>\n",
       "    </tr>\n",
       "    <tr>\n",
       "      <th>ICECUBE</th>\n",
       "      <td>0.034216</td>\n",
       "      <td>4.556499e-02</td>\n",
       "      <td>1.888889e-04</td>\n",
       "      <td>0.093102</td>\n",
       "    </tr>\n",
       "    <tr>\n",
       "      <th>INTEGRAL</th>\n",
       "      <td>0.000016</td>\n",
       "      <td>9.278895e-07</td>\n",
       "      <td>1.372222e-05</td>\n",
       "      <td>0.000017</td>\n",
       "    </tr>\n",
       "    <tr>\n",
       "      <th>LVK</th>\n",
       "      <td>4644.706646</td>\n",
       "      <td>4.204548e+03</td>\n",
       "      <td>4.364327e+01</td>\n",
       "      <td>26525.036363</td>\n",
       "    </tr>\n",
       "    <tr>\n",
       "      <th>SWIFT</th>\n",
       "      <td>0.000002</td>\n",
       "      <td>2.509180e-06</td>\n",
       "      <td>1.388889e-07</td>\n",
       "      <td>0.000005</td>\n",
       "    </tr>\n",
       "  </tbody>\n",
       "</table>\n",
       "</div>"
      ],
      "text/plain": [
       "             err_area_mean  err_area_std  err_area_min  err_area_max\n",
       "observatory                                                         \n",
       "Fermi             0.282598  2.415510e-01  1.666667e-02      0.833333\n",
       "ICECUBE           0.034216  4.556499e-02  1.888889e-04      0.093102\n",
       "INTEGRAL          0.000016  9.278895e-07  1.372222e-05      0.000017\n",
       "LVK            4644.706646  4.204548e+03  4.364327e+01  26525.036363\n",
       "SWIFT             0.000002  2.509180e-06  1.388889e-07      0.000005"
      ]
     },
     "execution_count": 16,
     "metadata": {},
     "output_type": "execute_result"
    }
   ],
   "source": [
    "df[\"err_squaredeg\"] = err_squaredeg\n",
    "df.groupby(\"observatory\").agg(\n",
    "    err_area_mean=(\"err_squaredeg\", np.mean),\n",
    "    err_area_std=(\"err_squaredeg\", np.std),\n",
    "    err_area_min=(\"err_squaredeg\", np.min),\n",
    "    err_area_max=(\"err_squaredeg\", np.max)\n",
    ")"
   ]
  },
  {
   "cell_type": "code",
   "execution_count": null,
   "metadata": {},
   "outputs": [],
   "source": []
  }
 ],
 "metadata": {
  "kernelspec": {
   "display_name": "Python 3",
   "language": "python",
   "name": "python3"
  },
  "language_info": {
   "codemirror_mode": {
    "name": "ipython",
    "version": 3
   },
   "file_extension": ".py",
   "mimetype": "text/x-python",
   "name": "python",
   "nbconvert_exporter": "python",
   "pygments_lexer": "ipython3",
   "version": "3.7.6"
  }
 },
 "nbformat": 4,
 "nbformat_minor": 4
}
